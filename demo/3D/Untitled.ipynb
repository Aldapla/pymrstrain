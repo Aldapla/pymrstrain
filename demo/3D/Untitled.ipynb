{
 "cells": [
  {
   "cell_type": "code",
   "execution_count": 1,
   "metadata": {},
   "outputs": [
    {
     "name": "stdout",
     "output_type": "stream",
     "text": [
      "- Time: 0.00\n",
      "- Time: 0.05\n"
     ]
    },
    {
     "ename": "KeyboardInterrupt",
     "evalue": "",
     "output_type": "error",
     "traceback": [
      "\u001b[0;31m---------------------------------------------------------------------------\u001b[0m",
      "\u001b[0;31mKeyboardInterrupt\u001b[0m                         Traceback (most recent call last)",
      "\u001b[0;32m<ipython-input-1-6b5ce96700b1>\u001b[0m in \u001b[0;36m<module>\u001b[0;34m()\u001b[0m\n\u001b[1;32m     51\u001b[0m   \u001b[0mg0\u001b[0m\u001b[0;34m.\u001b[0m\u001b[0mphantom\u001b[0m \u001b[0;34m=\u001b[0m \u001b[0mphantom\u001b[0m\u001b[0;34m\u001b[0m\u001b[0m\n\u001b[1;32m     52\u001b[0m   \u001b[0mg1\u001b[0m\u001b[0;34m.\u001b[0m\u001b[0mphantom\u001b[0m \u001b[0;34m=\u001b[0m \u001b[0mphantom\u001b[0m\u001b[0;34m\u001b[0m\u001b[0m\n\u001b[0;32m---> 53\u001b[0;31m   \u001b[0mu0\u001b[0m\u001b[0;34m,\u001b[0m \u001b[0mmask\u001b[0m \u001b[0;34m=\u001b[0m \u001b[0mg0\u001b[0m\u001b[0;34m.\u001b[0m\u001b[0mget_image\u001b[0m\u001b[0;34m(\u001b[0m\u001b[0;34m)\u001b[0m\u001b[0;34m\u001b[0m\u001b[0m\n\u001b[0m\u001b[1;32m     54\u001b[0m   \u001b[0mu1\u001b[0m\u001b[0;34m,\u001b[0m \u001b[0mmask\u001b[0m \u001b[0;34m=\u001b[0m \u001b[0mg1\u001b[0m\u001b[0;34m.\u001b[0m\u001b[0mget_image\u001b[0m\u001b[0;34m(\u001b[0m\u001b[0;34m)\u001b[0m\u001b[0;34m\u001b[0m\u001b[0m\n",
      "\u001b[0;32m/usr/local/lib/python3.5/dist-packages/PyMRStrain-0.1-py3.5-linux-x86_64.egg/PyMRStrain/Image.py\u001b[0m in \u001b[0;36mget_image\u001b[0;34m(self)\u001b[0m\n\u001b[1;32m    294\u001b[0m       \u001b[0mo_image\u001b[0m \u001b[0;34m=\u001b[0m \u001b[0m_get_tagging_image\u001b[0m\u001b[0;34m(\u001b[0m\u001b[0mself\u001b[0m\u001b[0;34m.\u001b[0m\u001b[0mImage\u001b[0m\u001b[0;34m,\u001b[0m \u001b[0mself\u001b[0m\u001b[0;34m.\u001b[0m\u001b[0mphantom\u001b[0m\u001b[0;34m,\u001b[0m \u001b[0mself\u001b[0m\u001b[0;34m.\u001b[0m\u001b[0mp\u001b[0m\u001b[0;34m,\u001b[0m \u001b[0mself\u001b[0m\u001b[0;34m.\u001b[0m\u001b[0mdebug\u001b[0m\u001b[0;34m)\u001b[0m\u001b[0;34m\u001b[0m\u001b[0m\n\u001b[1;32m    295\u001b[0m     \u001b[0;32melif\u001b[0m \u001b[0mself\u001b[0m\u001b[0;34m.\u001b[0m\u001b[0mImage\u001b[0m\u001b[0;34m.\u001b[0m\u001b[0mtechnique\u001b[0m\u001b[0;34m(\u001b[0m\u001b[0;34m)\u001b[0m \u001b[0;32min\u001b[0m \u001b[0;34m[\u001b[0m\u001b[0;34m\"DENSE\"\u001b[0m\u001b[0;34m]\u001b[0m\u001b[0;34m:\u001b[0m\u001b[0;34m\u001b[0m\u001b[0m\n\u001b[0;32m--> 296\u001b[0;31m       \u001b[0mo_image\u001b[0m \u001b[0;34m=\u001b[0m \u001b[0m_get_dense_image\u001b[0m\u001b[0;34m(\u001b[0m\u001b[0mself\u001b[0m\u001b[0;34m.\u001b[0m\u001b[0mImage\u001b[0m\u001b[0;34m,\u001b[0m \u001b[0mself\u001b[0m\u001b[0;34m.\u001b[0m\u001b[0mphantom\u001b[0m\u001b[0;34m,\u001b[0m \u001b[0mself\u001b[0m\u001b[0;34m.\u001b[0m\u001b[0mp\u001b[0m\u001b[0;34m,\u001b[0m \u001b[0mself\u001b[0m\u001b[0;34m.\u001b[0m\u001b[0mdebug\u001b[0m\u001b[0;34m)\u001b[0m\u001b[0;34m\u001b[0m\u001b[0m\n\u001b[0m\u001b[1;32m    297\u001b[0m     \u001b[0;32melif\u001b[0m \u001b[0mself\u001b[0m\u001b[0;34m.\u001b[0m\u001b[0mImage\u001b[0m\u001b[0;34m.\u001b[0m\u001b[0mtechnique\u001b[0m\u001b[0;34m(\u001b[0m\u001b[0;34m)\u001b[0m \u001b[0;32min\u001b[0m \u001b[0;34m[\u001b[0m\u001b[0;34m\"TVM\"\u001b[0m\u001b[0;34m]\u001b[0m\u001b[0;34m:\u001b[0m\u001b[0;34m\u001b[0m\u001b[0m\n\u001b[1;32m    298\u001b[0m       \u001b[0mo_image\u001b[0m \u001b[0;34m=\u001b[0m \u001b[0m_get_tvm_image\u001b[0m\u001b[0;34m(\u001b[0m\u001b[0mself\u001b[0m\u001b[0;34m.\u001b[0m\u001b[0mImage\u001b[0m\u001b[0;34m,\u001b[0m \u001b[0mself\u001b[0m\u001b[0;34m.\u001b[0m\u001b[0mphantom\u001b[0m\u001b[0;34m,\u001b[0m \u001b[0mself\u001b[0m\u001b[0;34m.\u001b[0m\u001b[0mp\u001b[0m\u001b[0;34m,\u001b[0m \u001b[0mself\u001b[0m\u001b[0;34m.\u001b[0m\u001b[0mdebug\u001b[0m\u001b[0;34m)\u001b[0m\u001b[0;34m\u001b[0m\u001b[0m\n",
      "\u001b[0;32m/usr/local/lib/python3.5/dist-packages/PyMRStrain-0.1-py3.5-linux-x86_64.egg/PyMRStrain/Image.py\u001b[0m in \u001b[0;36m_get_dense_image\u001b[0;34m(image, phantom, parameters, debug)\u001b[0m\n\u001b[1;32m    435\u001b[0m \u001b[0;34m\u001b[0m\u001b[0m\n\u001b[1;32m    436\u001b[0m     \u001b[0;31m# Project to fem-image in the deformed frame\u001b[0m\u001b[0;34m\u001b[0m\u001b[0;34m\u001b[0m\u001b[0m\n\u001b[0;32m--> 437\u001b[0;31m     \u001b[0mu_image\u001b[0m\u001b[0;34m,\u001b[0m \u001b[0mm\u001b[0m \u001b[0;34m=\u001b[0m \u001b[0m_project2image_vector\u001b[0m\u001b[0;34m(\u001b[0m\u001b[0mu\u001b[0m\u001b[0;34m,\u001b[0m \u001b[0mu\u001b[0m\u001b[0;34m,\u001b[0m \u001b[0mimage\u001b[0m\u001b[0;34m,\u001b[0m \u001b[0mparameters\u001b[0m\u001b[0;34m[\u001b[0m\u001b[0;34m\"mesh_resolution\"\u001b[0m\u001b[0;34m]\u001b[0m\u001b[0;34m)\u001b[0m\u001b[0;34m\u001b[0m\u001b[0m\n\u001b[0m\u001b[1;32m    438\u001b[0m \u001b[0;34m\u001b[0m\u001b[0m\n\u001b[1;32m    439\u001b[0m     \u001b[0;31m# Normalize mask\u001b[0m\u001b[0;34m\u001b[0m\u001b[0;34m\u001b[0m\u001b[0m\n",
      "\u001b[0;32m/usr/local/lib/python3.5/dist-packages/PyMRStrain-0.1-py3.5-linux-x86_64.egg/PyMRStrain/Image.py\u001b[0m in \u001b[0;36m_project2image_vector\u001b[0;34m(displacement, function, image, mesh_resolution)\u001b[0m\n\u001b[1;32m    599\u001b[0m \u001b[0;34m\u001b[0m\u001b[0m\n\u001b[1;32m    600\u001b[0m     \u001b[0;31m# Check dofs\u001b[0m\u001b[0;34m\u001b[0m\u001b[0;34m\u001b[0m\u001b[0m\n\u001b[0;32m--> 601\u001b[0;31m     \u001b[0mI\u001b[0m \u001b[0;34m=\u001b[0m \u001b[0mfem2image\u001b[0m\u001b[0;34m(\u001b[0m\u001b[0mmask\u001b[0m\u001b[0;34m,\u001b[0m \u001b[0mlocal_coords\u001b[0m\u001b[0;34m,\u001b[0m \u001b[0mimage\u001b[0m\u001b[0;34m.\u001b[0m\u001b[0msparse_grid\u001b[0m\u001b[0;34m,\u001b[0m \u001b[0mimage\u001b[0m\u001b[0;34m.\u001b[0m\u001b[0mvoxel_size\u001b[0m\u001b[0;34m(\u001b[0m\u001b[0;34m)\u001b[0m\u001b[0;34m,\u001b[0m \u001b[0mlocal_dofs\u001b[0m\u001b[0;34m,\u001b[0m \u001b[0mlocal_values\u001b[0m\u001b[0;34m,\u001b[0m \u001b[0mimage\u001b[0m\u001b[0;34m.\u001b[0m\u001b[0mresolution\u001b[0m\u001b[0;34m(\u001b[0m\u001b[0;34m)\u001b[0m\u001b[0;34m,\u001b[0m \u001b[0mi\u001b[0m\u001b[0;34m)\u001b[0m\u001b[0;34m\u001b[0m\u001b[0m\n\u001b[0m\u001b[1;32m    602\u001b[0m \u001b[0;34m\u001b[0m\u001b[0m\n\u001b[1;32m    603\u001b[0m     \u001b[0;31m# Reduce weights\u001b[0m\u001b[0;34m\u001b[0m\u001b[0;34m\u001b[0m\u001b[0m\n",
      "\u001b[0;31mKeyboardInterrupt\u001b[0m: "
     ]
    }
   ],
   "source": [
    "from PyMRStrain import *\n",
    "import numpy as np\n",
    "import matplotlib.pyplot as plt\n",
    "\n",
    "if __name__==\"__main__\":\n",
    "\n",
    "  # Parameters\n",
    "  p = {'t_end': 1.0,\n",
    "       'dt': 1.0/20.0,\n",
    "       't': 0.0,\n",
    "       'time_steps': 20,\n",
    "       'mesh_resolution': 0.0001}\n",
    "\n",
    "  # Encoding frequency\n",
    "  ke = 1000*2*np.pi*0.125\n",
    "\n",
    "  # Create image\n",
    "  I0 = Image(np.array([0.15, 0.15, 0.2]),\n",
    "            resolution=np.array([55, 55, 25]),\n",
    "            center=np.array([0.01,-0.01,-0.03]),\n",
    "            encoding_frequency=[ke,ke,ke],\n",
    "            complimentary=False,\n",
    "            T1=0.85,\n",
    "            flip_angle=15*np.pi/180,\n",
    "            type=\"DENSE\")\n",
    "\n",
    "  I1 = Image(np.array([0.15, 0.15, 0.2]),\n",
    "            resolution=np.array([55, 55, 25]),\n",
    "            center=np.array([0.01,-0.01,-0.03]),\n",
    "            encoding_frequency=[ke,ke,ke],\n",
    "            complimentary=True,\n",
    "            T1=0.85,\n",
    "            flip_angle=15*np.pi/180,\n",
    "            type=\"DENSE\")\n",
    "\n",
    "  # Element\n",
    "  FE = VectorElement('tetrahedron10')\n",
    "\n",
    "  # Mesh and fem space\n",
    "  mesh = Mesh('mesh/mesh10.msh')\n",
    "  V = FunctionSpace(mesh, FE)\n",
    "\n",
    "  # Create phantom object\n",
    "  phantom = Phantom3D(function_space=V, time_steps=p['time_steps'], path='files/')\n",
    "\n",
    "  # Generator\n",
    "  g0 = Generator(p, I0, debug=True)\n",
    "  g1 = Generator(p, I1, debug=True)\n",
    "\n",
    "  # Generation\n",
    "  g0.phantom = phantom\n",
    "  g1.phantom = phantom\n",
    "  u0, mask = g0.get_image()\n",
    "  u1, mask = g1.get_image()"
   ]
  },
  {
   "cell_type": "code",
   "execution_count": 3,
   "metadata": {},
   "outputs": [],
   "source": [
    "  # Add noise to images\n",
    "  un0 = add_noise_to_DENSE_(u0, mask, sigma=0.05)\n",
    "  un1 = add_noise_to_DENSE_(u1, mask, sigma=0.05)  \n",
    "\n",
    "  # Corrected image\n",
    "  u = un0 - un1\n",
    "\n",
    "  # Plot\n",
    "  if rank==0:\n",
    "    # fig, ax = plt.subplots(1, 2)\n",
    "    # tracker = IndexTracker(ax, u[:,:,5,0,:], u[:,:,5,2,:])\n",
    "    # fig.canvas.mpl_connect('scroll_event', tracker.onscroll)\n",
    "    # fig.suptitle('DENSE volunteer')\n",
    "    # plt.show()\n",
    "\n",
    "    # Export file\n",
    "    export_image(u, path='u', name='I_DENSE')\n",
    "    export_image(I0.Grid[0], path='X', name='X')\n",
    "    export_image(I0.Grid[1], path='Y', name='Y')\n",
    "    export_image(mask, path='mask', name='mask')"
   ]
  },
  {
   "cell_type": "code",
   "execution_count": null,
   "metadata": {},
   "outputs": [],
   "source": []
  }
 ],
 "metadata": {
  "kernelspec": {
   "display_name": "Python 3",
   "language": "python",
   "name": "python3"
  },
  "language_info": {
   "codemirror_mode": {
    "name": "ipython",
    "version": 3
   },
   "file_extension": ".py",
   "mimetype": "text/x-python",
   "name": "python",
   "nbconvert_exporter": "python",
   "pygments_lexer": "ipython3",
   "version": "3.5.2"
  }
 },
 "nbformat": 4,
 "nbformat_minor": 2
}
